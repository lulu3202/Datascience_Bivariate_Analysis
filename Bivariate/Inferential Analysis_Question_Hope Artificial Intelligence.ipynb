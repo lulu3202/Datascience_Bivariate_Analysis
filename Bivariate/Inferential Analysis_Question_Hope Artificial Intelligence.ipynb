{
 "cells": [
  {
   "cell_type": "markdown",
   "id": "34e68dc3",
   "metadata": {},
   "source": [
    "<img src=\"https://www.hopelearning.net/wp-content/uploads/2020/09/LOGO.png\" alt=\"fishy\" class=\"bg-primary\" width=\"50px\"> "
   ]
  },
  {
   "cell_type": "markdown",
   "id": "ef02caf7",
   "metadata": {},
   "source": [
    "# Justification or answer summary needed for every question"
   ]
  },
  {
   "cell_type": "markdown",
   "id": "a04f1b3e",
   "metadata": {},
   "source": [
    "## ** Download the dataset from <a href=\"https://drive.google.com/file/d/1hiR9XbTjMsNk_uA025w5nrw5LTBUDCEC/view?usp=sharing\">here(Click Here)</a>"
   ]
  },
  {
   "cell_type": "markdown",
   "id": "15e6311d",
   "metadata": {},
   "source": [
    "## 1)Replace the NaN values with correct value. And justify why you have chosen the same."
   ]
  },
  {
   "cell_type": "markdown",
   "id": "7a8eecd2",
   "metadata": {},
   "source": [
    "## 2)How many of them are not placed?"
   ]
  },
  {
   "cell_type": "markdown",
   "id": "770c28a5",
   "metadata": {},
   "source": [
    "## 3)Find the reason for non placement from the dataset?"
   ]
  },
  {
   "cell_type": "markdown",
   "id": "c3ae267d",
   "metadata": {},
   "source": [
    "## 4)What kind of relation between salary and mba_p"
   ]
  },
  {
   "cell_type": "markdown",
   "id": "0bc96884",
   "metadata": {},
   "source": [
    "## 5)Which specialization is getting minimum salary?"
   ]
  },
  {
   "cell_type": "markdown",
   "id": "1e5a5616",
   "metadata": {},
   "source": [
    "## 6)How many of them getting above 500000 salary?"
   ]
  },
  {
   "cell_type": "markdown",
   "id": "99a54f6d",
   "metadata": {},
   "source": [
    "## 7)Test the Analysis of Variance between etest_p and mba_p at signifance level 5%.(Make decision using Hypothesis Testing)"
   ]
  },
  {
   "cell_type": "markdown",
   "id": "20e436ee",
   "metadata": {},
   "source": [
    "## 8)Test the similarity between the degree_t(Sci&Tech) and specialisation(Mkt&HR) with respect to salary  at significance level of 5%.(Make decision using Hypothesis Testing)"
   ]
  },
  {
   "cell_type": "markdown",
   "id": "c96ff6b6",
   "metadata": {},
   "source": [
    "## 9)Convert the normal distribution to standard normal distribution for salary column"
   ]
  },
  {
   "cell_type": "markdown",
   "id": "60d16a57",
   "metadata": {},
   "source": [
    "## 10)What is the probability Density Function of the salary range from 700000 to 900000?"
   ]
  },
  {
   "cell_type": "markdown",
   "id": "95445f7f",
   "metadata": {},
   "source": [
    "## 11)Test the similarity between the degree_t(Sci&Tech)with respect to etest_p and mba_p at significance level of 5%.(Make decision using Hypothesis Testing)"
   ]
  },
  {
   "cell_type": "markdown",
   "id": "d4c03be2",
   "metadata": {},
   "source": [
    "## 12)Which parameter is highly correlated with salary?"
   ]
  },
  {
   "cell_type": "markdown",
   "id": "d394bcb2",
   "metadata": {},
   "source": [
    "## 13) plot  any useful graph and explain it."
   ]
  },
  {
   "cell_type": "markdown",
   "id": "fef9deab",
   "metadata": {},
   "source": [
    "Record Video and Explain each and every concept how you got the answer.\n",
    "This Video recording helps to understand how you are approaching the problem statement.\n",
    "\n",
    "if you are comfortable in English please record it in ENglish(Most preferable )"
   ]
  },
  {
   "cell_type": "markdown",
   "id": "af6a2ab4",
   "metadata": {},
   "source": [
    "www.hopelearning.net"
   ]
  }
 ],
 "metadata": {
  "kernelspec": {
   "display_name": "Python 3 (ipykernel)",
   "language": "python",
   "name": "python3"
  },
  "language_info": {
   "codemirror_mode": {
    "name": "ipython",
    "version": 3
   },
   "file_extension": ".py",
   "mimetype": "text/x-python",
   "name": "python",
   "nbconvert_exporter": "python",
   "pygments_lexer": "ipython3",
   "version": "3.12.4"
  }
 },
 "nbformat": 4,
 "nbformat_minor": 5
}
